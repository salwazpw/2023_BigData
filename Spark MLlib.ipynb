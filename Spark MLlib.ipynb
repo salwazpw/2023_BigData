{
  "nbformat": 4,
  "nbformat_minor": 0,
  "metadata": {
    "colab": {
      "provenance": [],
      "authorship_tag": "ABX9TyMERk6AHxFfN/DEzv/j55u1",
      "include_colab_link": true
    },
    "kernelspec": {
      "name": "python3",
      "display_name": "Python 3"
    },
    "language_info": {
      "name": "python"
    }
  },
  "cells": [
    {
      "cell_type": "markdown",
      "metadata": {
        "id": "view-in-github",
        "colab_type": "text"
      },
      "source": [
        "<a href=\"https://colab.research.google.com/github/salwazpw/2023_BigData/blob/main/Spark%20MLlib.ipynb\" target=\"_parent\"><img src=\"https://colab.research.google.com/assets/colab-badge.svg\" alt=\"Open In Colab\"/></a>"
      ]
    },
    {
      "cell_type": "markdown",
      "source": [
        "**Implementasi Spark MLlib dengan File CSV**"
      ],
      "metadata": {
        "id": "e_PBWGSe2Mvs"
      }
    },
    {
      "cell_type": "code",
      "execution_count": 1,
      "metadata": {
        "colab": {
          "base_uri": "https://localhost:8080/"
        },
        "id": "B-n8tziq2AtB",
        "outputId": "1ab4efc8-fc88-4a4b-8de6-7ce782b220fd"
      },
      "outputs": [
        {
          "output_type": "stream",
          "name": "stdout",
          "text": [
            "Looking in indexes: https://pypi.org/simple, https://us-python.pkg.dev/colab-wheels/public/simple/\n",
            "Collecting pyspark\n",
            "  Downloading pyspark-3.4.0.tar.gz (310.8 MB)\n",
            "\u001b[2K     \u001b[90m━━━━━━━━━━━━━━━━━━━━━━━━━━━━━━━━━━━━━━━\u001b[0m \u001b[32m310.8/310.8 MB\u001b[0m \u001b[31m3.6 MB/s\u001b[0m eta \u001b[36m0:00:00\u001b[0m\n",
            "\u001b[?25h  Preparing metadata (setup.py) ... \u001b[?25l\u001b[?25hdone\n",
            "Requirement already satisfied: py4j==0.10.9.7 in /usr/local/lib/python3.10/dist-packages (from pyspark) (0.10.9.7)\n",
            "Building wheels for collected packages: pyspark\n",
            "  Building wheel for pyspark (setup.py) ... \u001b[?25l\u001b[?25hdone\n",
            "  Created wheel for pyspark: filename=pyspark-3.4.0-py2.py3-none-any.whl size=311317130 sha256=861240d537edb4b340bfd959a7f65f9484d1e40fe42fdbc389e8f6b8780a5de1\n",
            "  Stored in directory: /root/.cache/pip/wheels/7b/1b/4b/3363a1d04368e7ff0d408e57ff57966fcdf00583774e761327\n",
            "Successfully built pyspark\n",
            "Installing collected packages: pyspark\n",
            "Successfully installed pyspark-3.4.0\n"
          ]
        }
      ],
      "source": [
        "#Instalasi pyspark\n",
        "!pip install pyspark"
      ]
    },
    {
      "cell_type": "code",
      "source": [
        "#Instalasi findspark\n",
        "!pip install findspark"
      ],
      "metadata": {
        "colab": {
          "base_uri": "https://localhost:8080/"
        },
        "id": "mPpG-3AU2NqB",
        "outputId": "1447b9b8-44c5-46a9-f1bb-f25fe273c10b"
      },
      "execution_count": 2,
      "outputs": [
        {
          "output_type": "stream",
          "name": "stdout",
          "text": [
            "Looking in indexes: https://pypi.org/simple, https://us-python.pkg.dev/colab-wheels/public/simple/\n",
            "Collecting findspark\n",
            "  Downloading findspark-2.0.1-py2.py3-none-any.whl (4.4 kB)\n",
            "Installing collected packages: findspark\n",
            "Successfully installed findspark-2.0.1\n"
          ]
        }
      ]
    },
    {
      "cell_type": "markdown",
      "source": [
        "**Import Library**"
      ],
      "metadata": {
        "id": "BYSTEjMJ2RCW"
      }
    },
    {
      "cell_type": "code",
      "source": [
        "import pyspark\n",
        "from pyspark.sql import SparkSession"
      ],
      "metadata": {
        "id": "KRsvRBV_2Pqz"
      },
      "execution_count": 3,
      "outputs": []
    },
    {
      "cell_type": "code",
      "source": [
        "spark = SparkSession.builder\\\n",
        ".master(\"local\")\\\n",
        ".appName(\"Colab\")\\\n",
        ".config('spark.ui.port', '4050')\\\n",
        ".getOrCreate()\n",
        "\n",
        "spark"
      ],
      "metadata": {
        "colab": {
          "base_uri": "https://localhost:8080/",
          "height": 222
        },
        "id": "I6wkmp__2X9t",
        "outputId": "ad231c6b-3b22-4011-d6a9-10775c40f735"
      },
      "execution_count": 4,
      "outputs": [
        {
          "output_type": "execute_result",
          "data": {
            "text/plain": [
              "<pyspark.sql.session.SparkSession at 0x7fabcc138040>"
            ],
            "text/html": [
              "\n",
              "            <div>\n",
              "                <p><b>SparkSession - in-memory</b></p>\n",
              "                \n",
              "        <div>\n",
              "            <p><b>SparkContext</b></p>\n",
              "\n",
              "            <p><a href=\"http://7482f0373f20:4050\">Spark UI</a></p>\n",
              "\n",
              "            <dl>\n",
              "              <dt>Version</dt>\n",
              "                <dd><code>v3.4.0</code></dd>\n",
              "              <dt>Master</dt>\n",
              "                <dd><code>local</code></dd>\n",
              "              <dt>AppName</dt>\n",
              "                <dd><code>Colab</code></dd>\n",
              "            </dl>\n",
              "        </div>\n",
              "        \n",
              "            </div>\n",
              "        "
            ]
          },
          "metadata": {},
          "execution_count": 4
        }
      ]
    },
    {
      "cell_type": "code",
      "source": [
        "df = spark.read.format(\"csv\").load(\"employees.csv\", header=True, inferSchema=True)\n",
        "\n",
        "df.printSchema()"
      ],
      "metadata": {
        "colab": {
          "base_uri": "https://localhost:8080/"
        },
        "id": "vpcLyqo32taV",
        "outputId": "e5cfda9d-a185-487f-f522-ec9eda7005fb"
      },
      "execution_count": 12,
      "outputs": [
        {
          "output_type": "stream",
          "name": "stdout",
          "text": [
            "root\n",
            " |-- EMPLOYEE_ID: integer (nullable = true)\n",
            " |-- FIRST_NAME: string (nullable = true)\n",
            " |-- LAST_NAME: string (nullable = true)\n",
            " |-- EMAIL: string (nullable = true)\n",
            " |-- PHONE_NUMBER: string (nullable = true)\n",
            " |-- HIRE_DATE: string (nullable = true)\n",
            " |-- JOB_ID: string (nullable = true)\n",
            " |-- SALARY: integer (nullable = true)\n",
            " |-- COMMISSION_PCT: string (nullable = true)\n",
            " |-- MANAGER_ID: string (nullable = true)\n",
            " |-- DEPARTMENT_ID: integer (nullable = true)\n",
            "\n"
          ]
        }
      ]
    },
    {
      "cell_type": "code",
      "source": [
        "df.show()"
      ],
      "metadata": {
        "colab": {
          "base_uri": "https://localhost:8080/"
        },
        "id": "-Wcxo42I27sC",
        "outputId": "ea830dc9-495c-4842-d200-e81d20b0f702"
      },
      "execution_count": 13,
      "outputs": [
        {
          "output_type": "stream",
          "name": "stdout",
          "text": [
            "+-----------+----------+---------+--------+------------+---------+----------+------+--------------+----------+-------------+\n",
            "|EMPLOYEE_ID|FIRST_NAME|LAST_NAME|   EMAIL|PHONE_NUMBER|HIRE_DATE|    JOB_ID|SALARY|COMMISSION_PCT|MANAGER_ID|DEPARTMENT_ID|\n",
            "+-----------+----------+---------+--------+------------+---------+----------+------+--------------+----------+-------------+\n",
            "|        198|    Donald| OConnell|DOCONNEL|650.507.9833|21-JUN-07|  SH_CLERK|  2600|            - |       124|           50|\n",
            "|        199|   Douglas|    Grant|  DGRANT|650.507.9844|13-JAN-08|  SH_CLERK|  2600|            - |       124|           50|\n",
            "|        200|  Jennifer|   Whalen| JWHALEN|515.123.4444|17-SEP-03|   AD_ASST|  4400|            - |       101|           10|\n",
            "|        201|   Michael|Hartstein|MHARTSTE|515.123.5555|17-FEB-04|    MK_MAN| 13000|            - |       100|           20|\n",
            "|        202|       Pat|      Fay|    PFAY|603.123.6666|17-AUG-05|    MK_REP|  6000|            - |       201|           20|\n",
            "|        203|     Susan|   Mavris| SMAVRIS|515.123.7777|07-JUN-02|    HR_REP|  6500|            - |       101|           40|\n",
            "|        204|   Hermann|     Baer|   HBAER|515.123.8888|07-JUN-02|    PR_REP| 10000|            - |       101|           70|\n",
            "|        205|   Shelley|  Higgins|SHIGGINS|515.123.8080|07-JUN-02|    AC_MGR| 12008|            - |       101|          110|\n",
            "|        206|   William|    Gietz|  WGIETZ|515.123.8181|07-JUN-02|AC_ACCOUNT|  8300|            - |       205|          110|\n",
            "|        100|    Steven|     King|   SKING|515.123.4567|17-JUN-03|   AD_PRES| 24000|            - |        - |           90|\n",
            "|        101|     Neena|  Kochhar|NKOCHHAR|515.123.4568|21-SEP-05|     AD_VP| 17000|            - |       100|           90|\n",
            "|        102|       Lex|  De Haan| LDEHAAN|515.123.4569|13-JAN-01|     AD_VP| 17000|            - |       100|           90|\n",
            "|        103| Alexander|   Hunold| AHUNOLD|590.423.4567|03-JAN-06|   IT_PROG|  9000|            - |       102|           60|\n",
            "|        104|     Bruce|    Ernst|  BERNST|590.423.4568|21-MAY-07|   IT_PROG|  6000|            - |       103|           60|\n",
            "|        105|     David|   Austin| DAUSTIN|590.423.4569|25-JUN-05|   IT_PROG|  4800|            - |       103|           60|\n",
            "|        106|     Valli|Pataballa|VPATABAL|590.423.4560|05-FEB-06|   IT_PROG|  4800|            - |       103|           60|\n",
            "|        107|     Diana|  Lorentz|DLORENTZ|590.423.5567|07-FEB-07|   IT_PROG|  4200|            - |       103|           60|\n",
            "|        108|     Nancy|Greenberg|NGREENBE|515.124.4569|17-AUG-02|    FI_MGR| 12008|            - |       101|          100|\n",
            "|        109|    Daniel|   Faviet| DFAVIET|515.124.4169|16-AUG-02|FI_ACCOUNT|  9000|            - |       108|          100|\n",
            "|        110|      John|     Chen|   JCHEN|515.124.4269|28-SEP-05|FI_ACCOUNT|  8200|            - |       108|          100|\n",
            "+-----------+----------+---------+--------+------------+---------+----------+------+--------------+----------+-------------+\n",
            "only showing top 20 rows\n",
            "\n"
          ]
        }
      ]
    },
    {
      "cell_type": "code",
      "source": [
        "df.columns"
      ],
      "metadata": {
        "colab": {
          "base_uri": "https://localhost:8080/"
        },
        "id": "EEgWbHtl298d",
        "outputId": "6b9d0ac5-aedc-4f16-be07-4da5c664b92a"
      },
      "execution_count": 14,
      "outputs": [
        {
          "output_type": "execute_result",
          "data": {
            "text/plain": [
              "['EMPLOYEE_ID',\n",
              " 'FIRST_NAME',\n",
              " 'LAST_NAME',\n",
              " 'EMAIL',\n",
              " 'PHONE_NUMBER',\n",
              " 'HIRE_DATE',\n",
              " 'JOB_ID',\n",
              " 'SALARY',\n",
              " 'COMMISSION_PCT',\n",
              " 'MANAGER_ID',\n",
              " 'DEPARTMENT_ID']"
            ]
          },
          "metadata": {},
          "execution_count": 14
        }
      ]
    },
    {
      "cell_type": "code",
      "source": [
        "from pyspark.sql.functions import monotonically_increasing_id\n",
        "\n",
        "df = df.withColumn('id', monotonically_increasing_id())\n",
        "\n",
        "df = df[['id'] + df.columns[:-1]]\n",
        "\n",
        "df.show()"
      ],
      "metadata": {
        "colab": {
          "base_uri": "https://localhost:8080/"
        },
        "id": "UkPwGTmG2-4F",
        "outputId": "7f479f37-bac0-4f31-eb8f-7ebb30144f7b"
      },
      "execution_count": 15,
      "outputs": [
        {
          "output_type": "stream",
          "name": "stdout",
          "text": [
            "+---+-----------+----------+---------+--------+------------+---------+----------+------+--------------+----------+-------------+\n",
            "| id|EMPLOYEE_ID|FIRST_NAME|LAST_NAME|   EMAIL|PHONE_NUMBER|HIRE_DATE|    JOB_ID|SALARY|COMMISSION_PCT|MANAGER_ID|DEPARTMENT_ID|\n",
            "+---+-----------+----------+---------+--------+------------+---------+----------+------+--------------+----------+-------------+\n",
            "|  0|        198|    Donald| OConnell|DOCONNEL|650.507.9833|21-JUN-07|  SH_CLERK|  2600|            - |       124|           50|\n",
            "|  1|        199|   Douglas|    Grant|  DGRANT|650.507.9844|13-JAN-08|  SH_CLERK|  2600|            - |       124|           50|\n",
            "|  2|        200|  Jennifer|   Whalen| JWHALEN|515.123.4444|17-SEP-03|   AD_ASST|  4400|            - |       101|           10|\n",
            "|  3|        201|   Michael|Hartstein|MHARTSTE|515.123.5555|17-FEB-04|    MK_MAN| 13000|            - |       100|           20|\n",
            "|  4|        202|       Pat|      Fay|    PFAY|603.123.6666|17-AUG-05|    MK_REP|  6000|            - |       201|           20|\n",
            "|  5|        203|     Susan|   Mavris| SMAVRIS|515.123.7777|07-JUN-02|    HR_REP|  6500|            - |       101|           40|\n",
            "|  6|        204|   Hermann|     Baer|   HBAER|515.123.8888|07-JUN-02|    PR_REP| 10000|            - |       101|           70|\n",
            "|  7|        205|   Shelley|  Higgins|SHIGGINS|515.123.8080|07-JUN-02|    AC_MGR| 12008|            - |       101|          110|\n",
            "|  8|        206|   William|    Gietz|  WGIETZ|515.123.8181|07-JUN-02|AC_ACCOUNT|  8300|            - |       205|          110|\n",
            "|  9|        100|    Steven|     King|   SKING|515.123.4567|17-JUN-03|   AD_PRES| 24000|            - |        - |           90|\n",
            "| 10|        101|     Neena|  Kochhar|NKOCHHAR|515.123.4568|21-SEP-05|     AD_VP| 17000|            - |       100|           90|\n",
            "| 11|        102|       Lex|  De Haan| LDEHAAN|515.123.4569|13-JAN-01|     AD_VP| 17000|            - |       100|           90|\n",
            "| 12|        103| Alexander|   Hunold| AHUNOLD|590.423.4567|03-JAN-06|   IT_PROG|  9000|            - |       102|           60|\n",
            "| 13|        104|     Bruce|    Ernst|  BERNST|590.423.4568|21-MAY-07|   IT_PROG|  6000|            - |       103|           60|\n",
            "| 14|        105|     David|   Austin| DAUSTIN|590.423.4569|25-JUN-05|   IT_PROG|  4800|            - |       103|           60|\n",
            "| 15|        106|     Valli|Pataballa|VPATABAL|590.423.4560|05-FEB-06|   IT_PROG|  4800|            - |       103|           60|\n",
            "| 16|        107|     Diana|  Lorentz|DLORENTZ|590.423.5567|07-FEB-07|   IT_PROG|  4200|            - |       103|           60|\n",
            "| 17|        108|     Nancy|Greenberg|NGREENBE|515.124.4569|17-AUG-02|    FI_MGR| 12008|            - |       101|          100|\n",
            "| 18|        109|    Daniel|   Faviet| DFAVIET|515.124.4169|16-AUG-02|FI_ACCOUNT|  9000|            - |       108|          100|\n",
            "| 19|        110|      John|     Chen|   JCHEN|515.124.4269|28-SEP-05|FI_ACCOUNT|  8200|            - |       108|          100|\n",
            "+---+-----------+----------+---------+--------+------------+---------+----------+------+--------------+----------+-------------+\n",
            "only showing top 20 rows\n",
            "\n"
          ]
        }
      ]
    },
    {
      "cell_type": "code",
      "source": [
        "df.count()"
      ],
      "metadata": {
        "colab": {
          "base_uri": "https://localhost:8080/"
        },
        "id": "ivrhcM393Mrb",
        "outputId": "f3ff8e4c-db3e-42b8-d2d9-f4f117426dc6"
      },
      "execution_count": 16,
      "outputs": [
        {
          "output_type": "execute_result",
          "data": {
            "text/plain": [
              "50"
            ]
          },
          "metadata": {},
          "execution_count": 16
        }
      ]
    },
    {
      "cell_type": "code",
      "source": [
        "df.select('SALARY').agg({'SALARY': 'avg'}).show()"
      ],
      "metadata": {
        "colab": {
          "base_uri": "https://localhost:8080/"
        },
        "id": "fK22PKu23Ndk",
        "outputId": "cc63e9f7-4c37-4ce0-ccd9-39234ffd5af1"
      },
      "execution_count": 17,
      "outputs": [
        {
          "output_type": "stream",
          "name": "stdout",
          "text": [
            "+-----------+\n",
            "|avg(SALARY)|\n",
            "+-----------+\n",
            "|    6182.32|\n",
            "+-----------+\n",
            "\n"
          ]
        }
      ]
    },
    {
      "cell_type": "code",
      "source": [
        "from pyspark.ml.feature import VectorAssembler\n",
        "featureassembler=VectorAssembler(inputCols=[\"id\", \"SALARY\"], outputCol=\"ID_SALARY\")"
      ],
      "metadata": {
        "id": "2Th5JBvM7eDC"
      },
      "execution_count": 23,
      "outputs": []
    },
    {
      "cell_type": "code",
      "source": [
        "output = featureassembler.transform(df)"
      ],
      "metadata": {
        "id": "nAUtyX5J-M4q"
      },
      "execution_count": 24,
      "outputs": []
    },
    {
      "cell_type": "code",
      "source": [
        "output.show()"
      ],
      "metadata": {
        "colab": {
          "base_uri": "https://localhost:8080/"
        },
        "id": "FwalkUP5-RsV",
        "outputId": "65d81608-6ec0-4510-f042-4006d7279638"
      },
      "execution_count": 25,
      "outputs": [
        {
          "output_type": "stream",
          "name": "stdout",
          "text": [
            "+---+-----------+----------+---------+--------+------------+---------+----------+------+--------------+----------+-------------+--------------+\n",
            "| id|EMPLOYEE_ID|FIRST_NAME|LAST_NAME|   EMAIL|PHONE_NUMBER|HIRE_DATE|    JOB_ID|SALARY|COMMISSION_PCT|MANAGER_ID|DEPARTMENT_ID|     ID_SALARY|\n",
            "+---+-----------+----------+---------+--------+------------+---------+----------+------+--------------+----------+-------------+--------------+\n",
            "|  0|        198|    Donald| OConnell|DOCONNEL|650.507.9833|21-JUN-07|  SH_CLERK|  2600|            - |       124|           50|  [0.0,2600.0]|\n",
            "|  1|        199|   Douglas|    Grant|  DGRANT|650.507.9844|13-JAN-08|  SH_CLERK|  2600|            - |       124|           50|  [1.0,2600.0]|\n",
            "|  2|        200|  Jennifer|   Whalen| JWHALEN|515.123.4444|17-SEP-03|   AD_ASST|  4400|            - |       101|           10|  [2.0,4400.0]|\n",
            "|  3|        201|   Michael|Hartstein|MHARTSTE|515.123.5555|17-FEB-04|    MK_MAN| 13000|            - |       100|           20| [3.0,13000.0]|\n",
            "|  4|        202|       Pat|      Fay|    PFAY|603.123.6666|17-AUG-05|    MK_REP|  6000|            - |       201|           20|  [4.0,6000.0]|\n",
            "|  5|        203|     Susan|   Mavris| SMAVRIS|515.123.7777|07-JUN-02|    HR_REP|  6500|            - |       101|           40|  [5.0,6500.0]|\n",
            "|  6|        204|   Hermann|     Baer|   HBAER|515.123.8888|07-JUN-02|    PR_REP| 10000|            - |       101|           70| [6.0,10000.0]|\n",
            "|  7|        205|   Shelley|  Higgins|SHIGGINS|515.123.8080|07-JUN-02|    AC_MGR| 12008|            - |       101|          110| [7.0,12008.0]|\n",
            "|  8|        206|   William|    Gietz|  WGIETZ|515.123.8181|07-JUN-02|AC_ACCOUNT|  8300|            - |       205|          110|  [8.0,8300.0]|\n",
            "|  9|        100|    Steven|     King|   SKING|515.123.4567|17-JUN-03|   AD_PRES| 24000|            - |        - |           90| [9.0,24000.0]|\n",
            "| 10|        101|     Neena|  Kochhar|NKOCHHAR|515.123.4568|21-SEP-05|     AD_VP| 17000|            - |       100|           90|[10.0,17000.0]|\n",
            "| 11|        102|       Lex|  De Haan| LDEHAAN|515.123.4569|13-JAN-01|     AD_VP| 17000|            - |       100|           90|[11.0,17000.0]|\n",
            "| 12|        103| Alexander|   Hunold| AHUNOLD|590.423.4567|03-JAN-06|   IT_PROG|  9000|            - |       102|           60| [12.0,9000.0]|\n",
            "| 13|        104|     Bruce|    Ernst|  BERNST|590.423.4568|21-MAY-07|   IT_PROG|  6000|            - |       103|           60| [13.0,6000.0]|\n",
            "| 14|        105|     David|   Austin| DAUSTIN|590.423.4569|25-JUN-05|   IT_PROG|  4800|            - |       103|           60| [14.0,4800.0]|\n",
            "| 15|        106|     Valli|Pataballa|VPATABAL|590.423.4560|05-FEB-06|   IT_PROG|  4800|            - |       103|           60| [15.0,4800.0]|\n",
            "| 16|        107|     Diana|  Lorentz|DLORENTZ|590.423.5567|07-FEB-07|   IT_PROG|  4200|            - |       103|           60| [16.0,4200.0]|\n",
            "| 17|        108|     Nancy|Greenberg|NGREENBE|515.124.4569|17-AUG-02|    FI_MGR| 12008|            - |       101|          100|[17.0,12008.0]|\n",
            "| 18|        109|    Daniel|   Faviet| DFAVIET|515.124.4169|16-AUG-02|FI_ACCOUNT|  9000|            - |       108|          100| [18.0,9000.0]|\n",
            "| 19|        110|      John|     Chen|   JCHEN|515.124.4269|28-SEP-05|FI_ACCOUNT|  8200|            - |       108|          100| [19.0,8200.0]|\n",
            "+---+-----------+----------+---------+--------+------------+---------+----------+------+--------------+----------+-------------+--------------+\n",
            "only showing top 20 rows\n",
            "\n"
          ]
        }
      ]
    },
    {
      "cell_type": "code",
      "source": [
        "output.columns"
      ],
      "metadata": {
        "colab": {
          "base_uri": "https://localhost:8080/"
        },
        "id": "L8WERKKM-x_T",
        "outputId": "bee9f8a0-48d5-461a-9d1a-76fc3f0dc9dc"
      },
      "execution_count": 26,
      "outputs": [
        {
          "output_type": "execute_result",
          "data": {
            "text/plain": [
              "['id',\n",
              " 'EMPLOYEE_ID',\n",
              " 'FIRST_NAME',\n",
              " 'LAST_NAME',\n",
              " 'EMAIL',\n",
              " 'PHONE_NUMBER',\n",
              " 'HIRE_DATE',\n",
              " 'JOB_ID',\n",
              " 'SALARY',\n",
              " 'COMMISSION_PCT',\n",
              " 'MANAGER_ID',\n",
              " 'DEPARTMENT_ID',\n",
              " 'ID_SALARY']"
            ]
          },
          "metadata": {},
          "execution_count": 26
        }
      ]
    },
    {
      "cell_type": "code",
      "source": [
        "final = output.select(\"ID_SALARY\", \"SALARY\")"
      ],
      "metadata": {
        "id": "oYx7QWKP-1fL"
      },
      "execution_count": 28,
      "outputs": []
    },
    {
      "cell_type": "code",
      "source": [
        "final.show()"
      ],
      "metadata": {
        "colab": {
          "base_uri": "https://localhost:8080/"
        },
        "id": "GzXa2IrT-8YV",
        "outputId": "d1bd0880-7642-44e7-a016-81a80d40bce1"
      },
      "execution_count": 29,
      "outputs": [
        {
          "output_type": "stream",
          "name": "stdout",
          "text": [
            "+--------------+------+\n",
            "|     ID_SALARY|SALARY|\n",
            "+--------------+------+\n",
            "|  [0.0,2600.0]|  2600|\n",
            "|  [1.0,2600.0]|  2600|\n",
            "|  [2.0,4400.0]|  4400|\n",
            "| [3.0,13000.0]| 13000|\n",
            "|  [4.0,6000.0]|  6000|\n",
            "|  [5.0,6500.0]|  6500|\n",
            "| [6.0,10000.0]| 10000|\n",
            "| [7.0,12008.0]| 12008|\n",
            "|  [8.0,8300.0]|  8300|\n",
            "| [9.0,24000.0]| 24000|\n",
            "|[10.0,17000.0]| 17000|\n",
            "|[11.0,17000.0]| 17000|\n",
            "| [12.0,9000.0]|  9000|\n",
            "| [13.0,6000.0]|  6000|\n",
            "| [14.0,4800.0]|  4800|\n",
            "| [15.0,4800.0]|  4800|\n",
            "| [16.0,4200.0]|  4200|\n",
            "|[17.0,12008.0]| 12008|\n",
            "| [18.0,9000.0]|  9000|\n",
            "| [19.0,8200.0]|  8200|\n",
            "+--------------+------+\n",
            "only showing top 20 rows\n",
            "\n"
          ]
        }
      ]
    },
    {
      "cell_type": "code",
      "source": [
        "from pyspark.ml.regression import LinearRegression\n",
        "\n",
        "train_data, test_data = final.randomSplit([0.70, 0.30])\n",
        "regressor = LinearRegression(featuresCol='ID_SALARY', labelCol='SALARY')\n",
        "regressor = regressor.fit(train_data)"
      ],
      "metadata": {
        "id": "-US5HeePAuZt"
      },
      "execution_count": 30,
      "outputs": []
    },
    {
      "cell_type": "code",
      "source": [
        "regressor.coefficients"
      ],
      "metadata": {
        "colab": {
          "base_uri": "https://localhost:8080/"
        },
        "id": "37N2YS4wBV4v",
        "outputId": "1c9c158f-2894-4e8a-c944-8791010c714e"
      },
      "execution_count": 31,
      "outputs": [
        {
          "output_type": "execute_result",
          "data": {
            "text/plain": [
              "DenseVector([-0.0, 1.0])"
            ]
          },
          "metadata": {},
          "execution_count": 31
        }
      ]
    },
    {
      "cell_type": "code",
      "source": [
        "regressor.intercept"
      ],
      "metadata": {
        "colab": {
          "base_uri": "https://localhost:8080/"
        },
        "id": "ZqLJYBOVBYmD",
        "outputId": "a81f8750-ed20-45a9-f9d8-f8be5d83e800"
      },
      "execution_count": 32,
      "outputs": [
        {
          "output_type": "execute_result",
          "data": {
            "text/plain": [
              "5.276708495092481e-12"
            ]
          },
          "metadata": {},
          "execution_count": 32
        }
      ]
    },
    {
      "cell_type": "code",
      "source": [
        "result = regressor.evaluate(test_data)"
      ],
      "metadata": {
        "id": "-fEFsOxzBa84"
      },
      "execution_count": 33,
      "outputs": []
    },
    {
      "cell_type": "code",
      "source": [
        "result.predictions.show()"
      ],
      "metadata": {
        "colab": {
          "base_uri": "https://localhost:8080/"
        },
        "id": "E2GSUm09Bfb8",
        "outputId": "15274a1d-8655-47e3-b008-458d583341e1"
      },
      "execution_count": 34,
      "outputs": [
        {
          "output_type": "stream",
          "name": "stdout",
          "text": [
            "+--------------+------+------------------+\n",
            "|     ID_SALARY|SALARY|        prediction|\n",
            "+--------------+------+------------------+\n",
            "|  [2.0,4400.0]|  4400| 4400.000000000004|\n",
            "|  [4.0,6000.0]|  6000| 6000.000000000003|\n",
            "| [6.0,10000.0]| 10000|           10000.0|\n",
            "|[10.0,17000.0]| 17000|16999.999999999996|\n",
            "|[17.0,12008.0]| 12008|12007.999999999998|\n",
            "| [20.0,7700.0]|  7700|            7700.0|\n",
            "| [22.0,6900.0]|  6900|            6900.0|\n",
            "|[23.0,11000.0]| 11000|10999.999999999998|\n",
            "| [25.0,2900.0]|  2900| 2900.000000000002|\n",
            "| [35.0,2700.0]|  2700| 2700.000000000001|\n",
            "| [36.0,2400.0]|  2400| 2400.000000000001|\n",
            "| [38.0,3300.0]|  3300|3300.0000000000005|\n",
            "| [41.0,2100.0]|  2100| 2100.000000000001|\n",
            "| [47.0,3200.0]|  3200|3199.9999999999995|\n",
            "| [48.0,2700.0]|  2700|            2700.0|\n",
            "+--------------+------+------------------+\n",
            "\n"
          ]
        }
      ]
    },
    {
      "cell_type": "code",
      "source": [
        "result.meanAbsoluteError, result.meanSquaredError"
      ],
      "metadata": {
        "colab": {
          "base_uri": "https://localhost:8080/"
        },
        "id": "W5HfnfVnBimM",
        "outputId": "483c46e2-4a10-4959-a94d-d35614251278"
      },
      "execution_count": 35,
      "outputs": [
        {
          "output_type": "execute_result",
          "data": {
            "text/plain": [
              "(1.2732925824820995e-12, 3.1157136406164042e-24)"
            ]
          },
          "metadata": {},
          "execution_count": 35
        }
      ]
    }
  ]
}